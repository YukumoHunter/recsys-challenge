{
 "cells": [
  {
   "cell_type": "markdown",
   "metadata": {},
   "source": [
    "# Getting started with the EB-NeRD"
   ]
  },
  {
   "cell_type": "code",
   "execution_count": null,
   "metadata": {},
   "outputs": [],
   "source": [
    "from pathlib import Path\n",
    "import polars as pl\n",
    "\n",
    "from recsys_challenge.dataset._vocab import WordVocab\n",
    "\n",
    "from recsys_challenge.dataset.preprocess.neighbors import (build_one_hop_neighbors, build_two_hop_neighbors)"
   ]
  },
  {
   "cell_type": "markdown",
   "metadata": {},
   "source": [
    "### Load dataset"
   ]
  },
  {
   "cell_type": "code",
   "execution_count": null,
   "metadata": {},
   "outputs": [],
   "source": [
    "PATH = Path(\"../data/small\")\n",
    "OUTPUT_PATH = Path(\"../data/neighbors\")"
   ]
  },
  {
   "cell_type": "code",
   "execution_count": null,
   "metadata": {},
   "outputs": [],
   "source": [
    "df_behaviors_train = pl.read_parquet(PATH / \"train\" / \"behaviors.parquet\")\n",
    "df_behaviors_val = pl.read_parquet(PATH / \"validation\" / \"behaviors.parquet\")"
   ]
  },
  {
   "cell_type": "markdown",
   "metadata": {},
   "source": [
    "### Load vocab"
   ]
  },
  {
   "cell_type": "code",
   "execution_count": null,
   "metadata": {},
   "outputs": [],
   "source": [
    "VOCAB_PATH = Path(\"../data/vocab\")\n",
    "vocab_articles = WordVocab.load_vocab(VOCAB_PATH / \"articles_id_vocab.bin\")\n",
    "vocab_user = WordVocab.load_vocab(VOCAB_PATH / \"user_id_vocab.bin\")"
   ]
  },
  {
   "cell_type": "code",
   "execution_count": null,
   "metadata": {},
   "outputs": [],
   "source": [
    "# Train one- and two-hops\n",
    "train_user_one_hop, train_news_one_hop = build_one_hop_neighbors(\n",
    "    df_behaviors_train, vocab_user, vocab_articles, \"train\", OUTPUT_PATH\n",
    ")\n",
    "build_two_hop_neighbors(train_user_one_hop, train_news_one_hop, \"train\", OUTPUT_PATH)\n",
    "\n",
    "# validation one- and two-hops\n",
    "val_user_one_hop, val_news_one_hop = build_one_hop_neighbors(\n",
    "    df_behaviors_val,\n",
    "    vocab_user,\n",
    "    vocab_articles,\n",
    "    \"validation\",\n",
    "    OUTPUT_PATH,\n",
    ")\n",
    "build_two_hop_neighbors(val_user_one_hop, val_news_one_hop, \"validation\", OUTPUT_PATH)"
   ]
  }
 ],
 "metadata": {
  "kernelspec": {
   "display_name": "Python 3",
   "language": "python",
   "name": "python3"
  },
  "language_info": {
   "codemirror_mode": {
    "name": "ipython",
    "version": 3
   },
   "file_extension": ".py",
   "mimetype": "text/x-python",
   "name": "python",
   "nbconvert_exporter": "python",
   "pygments_lexer": "ipython3",
   "version": "3.12.2"
  }
 },
 "nbformat": 4,
 "nbformat_minor": 2
}
