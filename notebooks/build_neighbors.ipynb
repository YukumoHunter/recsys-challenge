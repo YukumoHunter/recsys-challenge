{
 "cells": [
  {
   "cell_type": "markdown",
   "metadata": {},
   "source": [
    "# Getting started with the EB-NeRD"
   ]
  },
  {
   "cell_type": "code",
   "execution_count": 1,
   "metadata": {},
   "outputs": [],
   "source": [
    "from pathlib import Path\n",
    "import polars as pl\n",
    "\n",
    "from recsys_challenge.dataset._vocab import WordVocab\n",
    "\n",
    "from recsys_challenge.dataset.preprocess.neighbors import (build_one_hop_neighbors, build_two_hop_neighbors)"
   ]
  },
  {
   "cell_type": "markdown",
   "metadata": {},
   "source": [
    "### Load dataset"
   ]
  },
  {
   "cell_type": "code",
   "execution_count": 2,
   "metadata": {},
   "outputs": [],
   "source": [
    "PATH = Path(\"../data/small\")\n",
    "OUTPUT_PATH = Path(\"../data/neighbors\")"
   ]
  },
  {
   "cell_type": "code",
   "execution_count": 3,
   "metadata": {},
   "outputs": [],
   "source": [
    "df_behaviors_train = pl.read_parquet(PATH / \"train\" / \"behaviors.parquet\")\n",
    "df_behaviors_val = pl.read_parquet(PATH / \"validation\" / \"behaviors.parquet\")"
   ]
  },
  {
   "cell_type": "markdown",
   "metadata": {},
   "source": [
    "### Load vocab"
   ]
  },
  {
   "cell_type": "code",
   "execution_count": 4,
   "metadata": {},
   "outputs": [],
   "source": [
    "VOCAB_PATH = Path(\"../data/vocab\")\n",
    "vocab_articles = WordVocab.load_vocab(VOCAB_PATH / \"articles_id_vocab.bin\")\n",
    "vocab_user = WordVocab.load_vocab(VOCAB_PATH / \"user_id_vocab.bin\")"
   ]
  },
  {
   "cell_type": "code",
   "execution_count": 5,
   "metadata": {},
   "outputs": [
    {
     "data": {
      "application/vnd.jupyter.widget-view+json": {
       "model_id": "02323d5591dd4ba085bd7894c057a66d",
       "version_major": 2,
       "version_minor": 0
      },
      "text/plain": [
       "Building Hop-1:   0%|          | 0/232887 [00:00<?, ?it/s]"
      ]
     },
     "metadata": {},
     "output_type": "display_data"
    },
    {
     "data": {
      "application/vnd.jupyter.widget-view+json": {
       "model_id": "ea5e7aff02b0474b9cca3a1d50b23176",
       "version_major": 2,
       "version_minor": 0
      },
      "text/plain": [
       "Building hop-2 user:   0%|          | 0/15143 [00:00<?, ?it/s]"
      ]
     },
     "metadata": {},
     "output_type": "display_data"
    },
    {
     "data": {
      "application/vnd.jupyter.widget-view+json": {
       "model_id": "0bd8db2c334942939f0a6132342ac80d",
       "version_major": 2,
       "version_minor": 0
      },
      "text/plain": [
       "Building hop-2 news:   0%|          | 0/3995 [00:00<?, ?it/s]"
      ]
     },
     "metadata": {},
     "output_type": "display_data"
    },
    {
     "data": {
      "application/vnd.jupyter.widget-view+json": {
       "model_id": "efbd42c9ce284a948b1fa0f50d25214e",
       "version_major": 2,
       "version_minor": 0
      },
      "text/plain": [
       "Building Hop-1:   0%|          | 0/244647 [00:00<?, ?it/s]"
      ]
     },
     "metadata": {},
     "output_type": "display_data"
    },
    {
     "data": {
      "application/vnd.jupyter.widget-view+json": {
       "model_id": "0b2c970d6eb3410b9a49b4785174ed09",
       "version_major": 2,
       "version_minor": 0
      },
      "text/plain": [
       "Building hop-2 user:   0%|          | 0/11658 [00:00<?, ?it/s]"
      ]
     },
     "metadata": {},
     "output_type": "display_data"
    },
    {
     "data": {
      "application/vnd.jupyter.widget-view+json": {
       "model_id": "6b15b8b1f4a24dd5a5b821ce546bb9e2",
       "version_major": 2,
       "version_minor": 0
      },
      "text/plain": [
       "Building hop-2 news:   0%|          | 0/4457 [00:00<?, ?it/s]"
      ]
     },
     "metadata": {},
     "output_type": "display_data"
    }
   ],
   "source": [
    "# Train one- and two-hops\n",
    "train_user_one_hop, train_article_one_hop = build_one_hop_neighbors(\n",
    "    df_behaviors_train, vocab_user, vocab_articles, \"train\", OUTPUT_PATH\n",
    ")\n",
    "build_two_hop_neighbors(train_user_one_hop, train_article_one_hop, \"train\", OUTPUT_PATH)\n",
    "\n",
    "# validation one- and two-hops\n",
    "val_user_one_hop, val_article_one_hop = build_one_hop_neighbors(\n",
    "    df_behaviors_val,\n",
    "    vocab_user,\n",
    "    vocab_articles,\n",
    "    \"validation\",\n",
    "    OUTPUT_PATH,\n",
    ")\n",
    "build_two_hop_neighbors(val_user_one_hop, val_article_one_hop, \"validation\", OUTPUT_PATH)"
   ]
  }
 ],
 "metadata": {
  "kernelspec": {
   "display_name": "Python 3",
   "language": "python",
   "name": "python3"
  },
  "language_info": {
   "codemirror_mode": {
    "name": "ipython",
    "version": 3
   },
   "file_extension": ".py",
   "mimetype": "text/x-python",
   "name": "python",
   "nbconvert_exporter": "python",
   "pygments_lexer": "ipython3",
   "version": "3.12.2"
  }
 },
 "nbformat": 4,
 "nbformat_minor": 2
}
